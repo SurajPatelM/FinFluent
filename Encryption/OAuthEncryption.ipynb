{
 "cells": [
  {
   "cell_type": "code",
   "execution_count": 3,
   "id": "a2251887-1a0a-4eeb-9d4e-bda8b8cbf31b",
   "metadata": {},
   "outputs": [
    {
     "name": "stdin",
     "output_type": "stream",
     "text": [
      "Enter your command:  bye\n"
     ]
    },
    {
     "name": "stdout",
     "output_type": "stream",
     "text": [
      "Encrypted Input: b'gAAAAABn80qaAGFMT31eFA3i6vGp_cV2v1rJSIU51323gSGCVeA3GjUNIEsEqOTtVgjobBp629j6cSP2GpwYpyAm47lP8YKldw=='\n",
      "Decrypted Input: bye\n",
      "Encrypted Output: b'gAAAAABn80qa_NpbJOtuG8zcR5jOGHu1Gqm7nad_f0nPGNi81vUSBlrpj-BjDKTH2ITzxX6CGxCrd-lZafFqFiIgarYsmZmkUQ=='\n",
      "Final Decrypted Output: Goodbye!\n"
     ]
    }
   ],
   "source": [
    "from cryptography.fernet import Fernet\n",
    "\n",
    "key = Fernet.generate_key()\n",
    "cipher = Fernet(key)\n",
    "\n",
    "user_input = input(\"Enter your command: \")\n",
    "encrypted_input = cipher.encrypt(user_input.encode())\n",
    "print(\"Encrypted Input:\", encrypted_input)\n",
    "\n",
    "decrypted_input = cipher.decrypt(encrypted_input).decode()\n",
    "\n",
    "if decrypted_input == \"hello\":\n",
    "    mapped_output = \"Hi there!\"\n",
    "elif decrypted_input == \"bye\":\n",
    "    mapped_output = \"Goodbye!\"\n",
    "else:\n",
    "    mapped_output = \"Unknown command\"\n",
    "\n",
    "encrypted_output = cipher.encrypt(mapped_output.encode())\n",
    "\n",
    "final_output = cipher.decrypt(encrypted_output).decode()\n",
    "\n",
    "print(\"Decrypted Input:\", decrypted_input)\n",
    "print(\"Encrypted Output:\", encrypted_output)\n",
    "print(\"Final Decrypted Output:\", final_output)\n"
   ]
  }
 ],
 "metadata": {
  "kernelspec": {
   "display_name": "Python 3 (ipykernel)",
   "language": "python",
   "name": "python3"
  },
  "language_info": {
   "codemirror_mode": {
    "name": "ipython",
    "version": 3
   },
   "file_extension": ".py",
   "mimetype": "text/x-python",
   "name": "python",
   "nbconvert_exporter": "python",
   "pygments_lexer": "ipython3",
   "version": "3.12.6"
  }
 },
 "nbformat": 4,
 "nbformat_minor": 5
}
